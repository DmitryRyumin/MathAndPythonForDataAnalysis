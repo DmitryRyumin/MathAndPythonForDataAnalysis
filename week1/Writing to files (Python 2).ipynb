{
 "cells": [
  {
   "cell_type": "markdown",
   "metadata": {},
   "source": [
    "# Запись в файл "
   ]
  },
  {
   "cell_type": "code",
   "execution_count": 41,
   "metadata": {},
   "outputs": [],
   "source": [
    "file_obj = open('file_to_write_in.txt', 'w')\n",
    "string = 'строка для записи в файл\\n'\n",
    "file_obj.write(string)\n",
    "file_obj.close()"
   ]
  },
  {
   "cell_type": "code",
   "execution_count": 28,
   "metadata": {},
   "outputs": [
    {
     "name": "stderr",
     "output_type": "stream",
     "text": [
      "'cat' is not recognized as an internal or external command,\n",
      "operable program or batch file.\n"
     ]
    }
   ],
   "source": [
    "!cat file_to_write_in.txt"
   ]
  },
  {
   "cell_type": "code",
   "execution_count": 42,
   "metadata": {},
   "outputs": [
    {
     "name": "stdout",
     "output_type": "stream",
     "text": [
      "Microsoft Windows [Version 6.1.7601]\r\n",
      "Copyright (c) 2009 Microsoft Corporation.  All rights reserved.\r\n",
      "\r\n",
      "(py27) C:\\Users\\GLFS\\mathandpython\\week1>chcp 65001\n",
      "Active code page: 65001\r\n",
      "\r\n",
      "(py27) C:\\Users\\GLFS\\mathandpython\\week1>type file_to_write_in.txt\n",
      "строка для записи в файл\r\n",
      "\r\n",
      "(py27) C:\\Users\\GLFS\\mathandpython\\week1>"
     ]
    }
   ],
   "source": [
    "%%cmd\n",
    "chcp 65001\n",
    "type file_to_write_in.txt\n"
   ]
  },
  {
   "cell_type": "code",
   "execution_count": null,
   "metadata": {},
   "outputs": [],
   "source": [
    "\n"
   ]
  },
  {
   "cell_type": "code",
   "execution_count": 43,
   "metadata": {},
   "outputs": [],
   "source": [
    "#запись строки в файл, открытый в режиме 'w'\n",
    "file_obj = open('file_to_write_in.txt', 'w')\n",
    "second_string = 'вторая строка для записи в файл\\n'\n",
    "file_obj.write(second_string)\n",
    "file_obj.close()"
   ]
  },
  {
   "cell_type": "code",
   "execution_count": 44,
   "metadata": {},
   "outputs": [
    {
     "name": "stdout",
     "output_type": "stream",
     "text": [
      "Microsoft Windows [Version 6.1.7601]\r\n",
      "Copyright (c) 2009 Microsoft Corporation.  All rights reserved.\r\n",
      "\r\n",
      "(py27) C:\\Users\\GLFS\\mathandpython\\week1>chcp 65001\n",
      "Active code page: 65001\r\n",
      "\r\n",
      "(py27) C:\\Users\\GLFS\\mathandpython\\week1>type file_to_write_in.txt\n",
      "вторая строка для записи в файл\r\n",
      "\r\n",
      "(py27) C:\\Users\\GLFS\\mathandpython\\week1>"
     ]
    }
   ],
   "source": [
    "%%cmd\n",
    "chcp 65001\n",
    "type file_to_write_in.txt"
   ]
  },
  {
   "cell_type": "markdown",
   "metadata": {},
   "source": [
    "## В режиме 'w' файл перезаписался! Используем режим append 'a'"
   ]
  },
  {
   "cell_type": "code",
   "execution_count": 45,
   "metadata": {},
   "outputs": [],
   "source": [
    "#запись строки в файл, открытый в режиме 'a'\n",
    "file_obj = open('file_to_write_in.txt', 'a')\n",
    "second_string = 'третья строка для записи в файл\\n'\n",
    "file_obj.write(second_string)\n",
    "file_obj.close()"
   ]
  },
  {
   "cell_type": "code",
   "execution_count": 46,
   "metadata": {},
   "outputs": [
    {
     "name": "stdout",
     "output_type": "stream",
     "text": [
      "Microsoft Windows [Version 6.1.7601]\r\n",
      "Copyright (c) 2009 Microsoft Corporation.  All rights reserved.\r\n",
      "\r\n",
      "(py27) C:\\Users\\GLFS\\mathandpython\\week1>chcp 65001\n",
      "Active code page: 65001\r\n",
      "\r\n",
      "(py27) C:\\Users\\GLFS\\mathandpython\\week1>type file_to_write_in.txt\n",
      "вторая строка для записи в файл\r\n",
      "третья строка для записи в файл\r\n",
      "\r\n",
      "(py27) C:\\Users\\GLFS\\mathandpython\\week1>"
     ]
    }
   ],
   "source": [
    "%%cmd\n",
    "chcp 65001\n",
    "type file_to_write_in.txt"
   ]
  },
  {
   "cell_type": "code",
   "execution_count": 47,
   "metadata": {},
   "outputs": [],
   "source": [
    "#создание списка чисел от 1 до 10\n",
    "digits = range(1,11)"
   ]
  },
  {
   "cell_type": "code",
   "execution_count": 48,
   "metadata": {},
   "outputs": [
    {
     "data": {
      "text/plain": [
       "[1, 2, 3, 4, 5, 6, 7, 8, 9, 10]"
      ]
     },
     "execution_count": 48,
     "metadata": {},
     "output_type": "execute_result"
    }
   ],
   "source": [
    "digits"
   ]
  },
  {
   "cell_type": "code",
   "execution_count": 49,
   "metadata": {},
   "outputs": [],
   "source": [
    "with open('second_file_for_write_in.txt', 'w') as file_obj:\n",
    "    file_obj.writelines(digit + '\\n' for digit in map(str, digits))"
   ]
  },
  {
   "cell_type": "code",
   "execution_count": 50,
   "metadata": {},
   "outputs": [
    {
     "name": "stdout",
     "output_type": "stream",
     "text": [
      "1\n",
      "2\n",
      "3\n",
      "4\n",
      "5\n",
      "6\n",
      "7\n",
      "8\n",
      "9\n",
      "10\n",
      "\n"
     ]
    }
   ],
   "source": [
    "#вывод на экран содержимого файла\n",
    "with open('second_file_for_write_in.txt', 'r') as file_obj:\n",
    "    print file_obj.read()"
   ]
  },
  {
   "cell_type": "code",
   "execution_count": 51,
   "metadata": {},
   "outputs": [
    {
     "name": "stdout",
     "output_type": "stream",
     "text": [
      "['1', '2', '3', '4', '5', '6', '7', '8', '9', '10']\n"
     ]
    }
   ],
   "source": [
    "print map(str, digits)"
   ]
  },
  {
   "cell_type": "code",
   "execution_count": 54,
   "metadata": {},
   "outputs": [
    {
     "name": "stdout",
     "output_type": "stream",
     "text": [
      "['1\\n', '2\\n', '3\\n', '4\\n', '5\\n', '6\\n', '7\\n', '8\\n', '9\\n', '10\\n']\n"
     ]
    }
   ],
   "source": [
    "print list((digit + '\\n' for digit in map(str, digits)))"
   ]
  },
  {
   "cell_type": "code",
   "execution_count": 55,
   "metadata": {},
   "outputs": [
    {
     "data": {
      "text/plain": [
       "{1: '1', 2: 2}"
      ]
     },
     "execution_count": 55,
     "metadata": {},
     "output_type": "execute_result"
    }
   ],
   "source": [
    "d = dict()\n",
    "d[1] = '1'\n",
    "d[2] = 2\n",
    "d"
   ]
  },
  {
   "cell_type": "code",
   "execution_count": null,
   "metadata": {},
   "outputs": [],
   "source": []
  }
 ],
 "metadata": {
  "kernelspec": {
   "display_name": "Python 2",
   "language": "python",
   "name": "python2"
  },
  "language_info": {
   "codemirror_mode": {
    "name": "ipython",
    "version": 2
   },
   "file_extension": ".py",
   "mimetype": "text/x-python",
   "name": "python",
   "nbconvert_exporter": "python",
   "pygments_lexer": "ipython2",
   "version": "2.7.16"
  }
 },
 "nbformat": 4,
 "nbformat_minor": 2
}
